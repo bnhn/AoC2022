{
 "cells": [
  {
   "cell_type": "code",
   "execution_count": 6,
   "id": "25def03b",
   "metadata": {
    "scrolled": false
   },
   "outputs": [
    {
     "data": {
      "text/plain": [
       "{0: 'Sabqponm', 1: 'abcryxxl', 2: 'accszExk', 3: 'acctuvwj', 4: 'abdefghi'}"
      ]
     },
     "execution_count": 6,
     "metadata": {},
     "output_type": "execute_result"
    }
   ],
   "source": [
    "pos={}\n",
    "from string import ascii_lowercase as alc\n",
    "height_map = {'S':1,'E':26}\n",
    "l=1\n",
    "\n",
    "for i in alc:\n",
    "    height_map[i]=l\n",
    "    l+=1 \n",
    "with open('Data/D12DT.txt') as file:\n",
    "    p=0\n",
    "    for line in file:\n",
    "        line=line.strip()\n",
    "        pos[p]=line\n",
    "        p+=1\n",
    "\n",
    "pos"
   ]
  },
  {
   "cell_type": "code",
   "execution_count": 2,
   "id": "7858a40d",
   "metadata": {},
   "outputs": [
    {
     "name": "stdout",
     "output_type": "stream",
     "text": [
      "[0, 0] [2, 5]\n"
     ]
    }
   ],
   "source": [
    "s_pos=[-1,-1]\n",
    "e_pos=[-1,-1]\n",
    "height={'S':1,'E':26}\n",
    "for i in pos.keys():\n",
    "    S= pos[i].find('S')\n",
    "    E= pos[i].find('E')\n",
    "    if S!=-1:\n",
    "        s_pos=[i,S]\n",
    "    if E!=-1:\n",
    "        e_pos=[i,E]\n",
    "    if s_pos[1]!=-1 and e_pos[1]!=-1:\n",
    "        break\n",
    "   \n",
    "print(s_pos,e_pos)\n",
    "\n"
   ]
  },
  {
   "cell_type": "code",
   "execution_count": null,
   "id": "fa8a3d7b",
   "metadata": {},
   "outputs": [],
   "source": []
  }
 ],
 "metadata": {
  "kernelspec": {
   "display_name": "Python 3 (ipykernel)",
   "language": "python",
   "name": "python3"
  },
  "language_info": {
   "codemirror_mode": {
    "name": "ipython",
    "version": 3
   },
   "file_extension": ".py",
   "mimetype": "text/x-python",
   "name": "python",
   "nbconvert_exporter": "python",
   "pygments_lexer": "ipython3",
   "version": "3.11.0"
  }
 },
 "nbformat": 4,
 "nbformat_minor": 5
}
