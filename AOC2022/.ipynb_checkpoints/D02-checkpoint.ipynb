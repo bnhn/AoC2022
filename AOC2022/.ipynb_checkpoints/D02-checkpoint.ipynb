{
 "cells": [
  {
   "cell_type": "code",
   "execution_count": 18,
   "metadata": {
    "scrolled": true
   },
   "outputs": [],
   "source": [
    "scores = {\n",
    "    'win': 6,\n",
    "    'draw': 3,\n",
    "    'lose': 0,\n",
    "    'A': 1,\n",
    "    'B': 2,\n",
    "    'C': 3\n",
    "}\n",
    "shapes = {\n",
    "    'A': 'X',\n",
    "    'B': 'Y',\n",
    "    'C': 'Z',\n",
    "    'X': 'A',\n",
    "    'Y': 'B',\n",
    "    'Z': 'C',\n",
    "}\n",
    "\n"
   ]
  },
  {
   "cell_type": "code",
   "execution_count": 19,
   "metadata": {},
   "outputs": [],
   "source": [
    "def outcomePerRound(player, opponent):\n",
    "    if player == shapes[opponent]:\n",
    "        return 'draw'\n",
    "    elif scores[opponent] < scores[shapes[player]] and scores[shapes[player]] - scores[opponent] == 1:\n",
    "        return 'win'\n",
    "    elif scores[opponent] > scores[shapes[player]] and scores[shapes[player]] -  scores[opponent] == -2:\n",
    "        return 'win'\n",
    "    else:\n",
    "        return 'lose'\n",
    "    return\n",
    "\n",
    "def outcomePartTwo(play, outcome):\n",
    "    plays = {\n",
    "    'X': 'lose',\n",
    "    'Y': 'draw',\n",
    "    'Z': 'win'\n",
    "        }\n",
    "    \n",
    "    if plays[outcome] == 'draw':\n",
    "        return [outcomePerRound(shapes[play], play), play]\n",
    "    elif plays[outcome] == 'win':\n",
    "        if play == 'A':\n",
    "            return [outcomePerRound('Y',play),'B']\n",
    "        elif play == 'B':\n",
    "            return [outcomePerRound('Z',play),'C']\n",
    "        elif play == 'C':\n",
    "            return [outcomePerRound('X',play),'A']\n",
    "    else:\n",
    "        if play == 'A':\n",
    "            return [outcomePerRound('Z',play),'C']\n",
    "        elif play == 'B':\n",
    "            return [outcomePerRound('X',play),'A']\n",
    "        elif play  == 'C':\n",
    "            return [outcomePerRound('Y',play),'B']\n",
    "    return"
   ]
  },
  {
   "cell_type": "code",
   "execution_count": 20,
   "metadata": {},
   "outputs": [
    {
     "name": "stdout",
     "output_type": "stream",
     "text": [
      "13809\n",
      "12316\n"
     ]
    }
   ],
   "source": [
    "totalScore = 0\n",
    "totalScoreTwo= 0\n",
    "\n",
    "with open('Data/D02D.txt') as Data:\n",
    "    for line in Data:\n",
    "        outcome = outcomePerRound(line[2], line[0])\n",
    "        totalScorePerRound = scores[outcome] + scores[shapes[line[2]]]\n",
    "        totalScore += totalScorePerRound\n",
    "        \n",
    "        partTwoResults = outcomePartTwo(line[0], line[2])\n",
    "        partTwoOutcome = scores[partTwoResults[0]] + scores[partTwoResults[1]]\n",
    "        totalScoreTwo += partTwoOutcome\n",
    "        \n",
    "print(totalScore)\n",
    "print(totalScoreTwo)"
   ]
  }
 ],
 "metadata": {
  "kernelspec": {
   "display_name": "Python 3 (ipykernel)",
   "language": "python",
   "name": "python3"
  },
  "language_info": {
   "codemirror_mode": {
    "name": "ipython",
    "version": 3
   },
   "file_extension": ".py",
   "mimetype": "text/x-python",
   "name": "python",
   "nbconvert_exporter": "python",
   "pygments_lexer": "ipython3",
   "version": "3.9.10+"
  }
 },
 "nbformat": 4,
 "nbformat_minor": 2
}
