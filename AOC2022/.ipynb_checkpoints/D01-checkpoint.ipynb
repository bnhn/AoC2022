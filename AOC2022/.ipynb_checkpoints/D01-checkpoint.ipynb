{
 "cells": [
  {
   "cell_type": "code",
   "execution_count": 9,
   "metadata": {},
   "outputs": [],
   "source": [
    "calories = 0\n",
    "totalCalories = []"
   ]
  },
  {
   "cell_type": "code",
   "execution_count": 10,
   "metadata": {},
   "outputs": [
    {
     "name": "stdout",
     "output_type": "stream",
     "text": [
      "68802\n"
     ]
    }
   ],
   "source": [
    "#Read input data and sum calories per elf\n",
    "with open('Data/D01D.txt') as CaloriesData:\n",
    "    \n",
    "    for Calories in CaloriesData:\n",
    "        if len(Calories.strip())==0:\n",
    "            totalCalories.append(calories)\n",
    "            calories = 0\n",
    "            continue\n",
    "        else:\n",
    "            calories += int(Calories.strip())\n",
    "    \n",
    "print(max(totalCalories))"
   ]
  },
  {
   "cell_type": "code",
   "execution_count": 11,
   "metadata": {},
   "outputs": [
    {
     "name": "stdout",
     "output_type": "stream",
     "text": [
      "205370\n"
     ]
    }
   ],
   "source": [
    "#Getting the sum of the top three calories carrying elves\n",
    "\n",
    "totalCalories.sort(reverse=True)\n",
    "topThreeElves = sum(totalCalories[:3])\n",
    "print(topThreeElves)"
   ]
  }
 ],
 "metadata": {
  "kernelspec": {
   "display_name": "Python 3 (ipykernel)",
   "language": "python",
   "name": "python3"
  },
  "language_info": {
   "codemirror_mode": {
    "name": "ipython",
    "version": 3
   },
   "file_extension": ".py",
   "mimetype": "text/x-python",
   "name": "python",
   "nbconvert_exporter": "python",
   "pygments_lexer": "ipython3",
   "version": "3.9.10+"
  }
 },
 "nbformat": 4,
 "nbformat_minor": 2
}
