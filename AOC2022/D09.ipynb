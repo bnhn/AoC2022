{
 "cells": [
  {
   "cell_type": "code",
   "execution_count": 2,
   "id": "9169d4dc",
   "metadata": {},
   "outputs": [
    {
     "name": "stdout",
     "output_type": "stream",
     "text": [
      "11439,2000\n"
     ]
    }
   ],
   "source": [
    "def log_new_visit(key,target):\n",
    "    if key not in target:\n",
    "        target.append(key)\n",
    "        #print('added new point',key.split(','))\n",
    "        return\n",
    "    return\n"
   ]
  },
  {
   "cell_type": "code",
   "execution_count": 16,
   "id": "2a5756e9",
   "metadata": {
    "scrolled": false
   },
   "outputs": [
    {
     "name": "stdout",
     "output_type": "stream",
     "text": [
      "6464\n",
      "2000\n",
      "11440\n",
      "11440\n"
     ]
    }
   ],
   "source": [
    "res,res2=0,0\n",
    "moves=[]\n",
    "coord_h=[0,0]\n",
    "coord_t=[0,0]\n",
    "visited=[(0,0)]\n",
    "tail_visits=[]\n",
    "head_visits=[(0,0)]\n",
    "\n",
    "with open('Data/D9D.txt') as file:\n",
    "    for line in file:\n",
    "        line=line.strip()\n",
    "        a,b=line.split(' ')\n",
    "        moves.append([a,int(b)])\n",
    "        \n",
    "for move in moves:\n",
    "    r,l,u,d='R','L','U','D'\n",
    "    direction=move[0]\n",
    "    distance=move[1]\n",
    "    \n",
    "    for i in range(distance):\n",
    "        \n",
    "        #head\n",
    "        if direction==u or direction==d:   \n",
    "            if direction==u:\n",
    "                coord_h[1]+=1\n",
    "            else:\n",
    "                coord_h[1]-=1\n",
    "                \n",
    "        else:     \n",
    "            if direction==r:\n",
    "                coord_h[0]+=1\n",
    "            else:\n",
    "                coord_h[0]-=1\n",
    "        h=(coord_h[0],coord_h[1])\n",
    "        head_visits.append(h)\n",
    "        #head#\n",
    "        \n",
    "        #tail\n",
    "        xdiff=abs(coord_h[0]-coord_t[0])\n",
    "        ydiff=abs(coord_h[1]-coord_t[1])\n",
    "        \n",
    "        ##horizontal nav\n",
    "        if xdiff<2 and ydiff<2:\n",
    "            continue\n",
    "            \n",
    "        if xdiff !=0:\n",
    "            if coord_t[0] < coord_h[0]:\n",
    "                coord_t[0]+=1\n",
    "            else:\n",
    "                coord_t[0]-=1\n",
    "                \n",
    "        ##vertical nav\n",
    "        if ydiff !=0:\n",
    "            if coord_t[1]<coord_h[1]:\n",
    "                coord_t[1]+=1\n",
    "            else:\n",
    "                coord_t[1]-=1\n",
    "                \n",
    "        t=(coord_t[0],coord_t[1])\n",
    "        log_new_visit(t,visited)\n",
    "        tail_visits.append(t)\n",
    "        #tail#\n",
    "        \n",
    "\n",
    "res=len(visited)\n",
    "print(res)\n",
    "print(len(moves))\n",
    "#print('v',visited)\n",
    "print(len(head_visits))\n",
    "#print(tail_visits)\n",
    "print(len(head_visits))\n",
    "#print(head_visits)\n"
   ]
  }
 ],
 "metadata": {
  "kernelspec": {
   "display_name": "Python 3 (ipykernel)",
   "language": "python",
   "name": "python3"
  },
  "language_info": {
   "codemirror_mode": {
    "name": "ipython",
    "version": 3
   },
   "file_extension": ".py",
   "mimetype": "text/x-python",
   "name": "python",
   "nbconvert_exporter": "python",
   "pygments_lexer": "ipython3",
   "version": "3.9.10+"
  }
 },
 "nbformat": 4,
 "nbformat_minor": 5
}
