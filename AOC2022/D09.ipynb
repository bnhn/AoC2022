{
 "cells": [
  {
   "cell_type": "code",
   "execution_count": 2,
   "id": "aee3befd",
   "metadata": {},
   "outputs": [],
   "source": [
    "def log_new_visit(key,target):\n",
    "    if key not in target:\n",
    "        target.append(key)\n",
    "        #print('added new point',key.split(','))\n",
    "        return\n",
    "    return\n",
    "    "
   ]
  },
  {
   "cell_type": "code",
   "execution_count": 33,
   "id": "1974cf38",
   "metadata": {
    "scrolled": true
   },
   "outputs": [
    {
     "name": "stdout",
     "output_type": "stream",
     "text": [
      "17\n",
      "v ['0,0', '1,0', '2,0', '3,0', '4,2', '4,4', '3,4', '2,4', '1,3', '2,3', '3,3', '4,3', '5,2', '3,2', '2,2', '1,2', '0,2']\n",
      "25\n",
      "['0,0', '0,0', '1,0', '2,0', '3,0', '3,0', '3,0', '4,2', '4,2', '4,4', '3,4', '2,4', '2,4', '1,3', '2,3', '3,3', '4,3', '4,3', '5,2', '4,2', '3,2', '2,2', '1,2', '0,2', '1,2']\n",
      "25\n",
      "['0,0', '1,0', '2,0', '3,0', '4,0', '4,1', '4,2', '4,3', '4,4', '3,4', '2,4', '1,4', '1,3', '2,3', '3,3', '4,3', '5,3', '5,2', '4,2', '3,2', '2,2', '1,2', '0,2', '1,2', '2,2']\n"
     ]
    }
   ],
   "source": [
    "res,res2=0,0\n",
    "moves=[]\n",
    "coord_h=[0,0]\n",
    "coord_t=[0,0]\n",
    "visited=['0,0']\n",
    "tail_visits=['0,0']\n",
    "head_visits=['0,0']\n",
    "grid={'base':[0,0],\n",
    "      'extent_n':[50,50],\n",
    "      'extent_s':[-50,-50],\n",
    "      'extent_e':[50,-50],\n",
    "      'extent_w':[-50,50],\n",
    "      'visited':visited,\n",
    "      'current_head_position':coord_h,\n",
    "      'current_tail_position':coord_t\n",
    "     }\n",
    "with open('Data/D9DT.txt') as file:\n",
    "    for line in file:\n",
    "        line=line.strip()\n",
    "        moves.append(line.split(' '))\n",
    "\n",
    "#head movement\n",
    "for move in moves:\n",
    "    r,l,u,d='R','L','U','D'\n",
    "    direction=move[0].upper()\n",
    "    distance=int(move[1])\n",
    "    #print(direction,distance)\n",
    "    temp_h= coord_h\n",
    "    temp_t= coord_t\n",
    "    \n",
    "    while distance!=0:\n",
    "       # temp_h=coord_h\n",
    "    \n",
    "        if direction==u or direction==d:\n",
    "            ydiff=coord_h[1]-coord_t[1]\n",
    "            if abs(ydiff)>1:\n",
    "                temp_h=coord_h\n",
    "                coord_t[0],coord_t[1]=temp_h[0],temp_h[1]\n",
    "            else:\n",
    "                coord_t=coord_t\n",
    "            t=str(coord_t[0])+','+str(coord_t[1])\n",
    "            log_new_visit(t,visited)\n",
    "                \n",
    "            if direction==u:\n",
    "                coord_h[1]+=1\n",
    "            else:\n",
    "                coord_h[1]-=1\n",
    "                \n",
    "        else:\n",
    "            xdiff=coord_h[0]-coord_t[0]\n",
    "            if abs(xdiff)>1:\n",
    "                temp_h=coord_h\n",
    "            \n",
    "                \n",
    "            coord_t[0],coord_t[1]=temp_h[0],temp_h[1]\n",
    "            t=str(coord_t[0])+','+str(coord_t[1])\n",
    "            log_new_visit(t,visited)\n",
    "            \n",
    "          #  print('t',temp_h,xdiff,coord_h,coord_t)\n",
    "            \n",
    "            \n",
    "            if direction==r:\n",
    "                coord_h[0]+=1\n",
    "            else:\n",
    "                coord_h[0]-=1\n",
    "        \n",
    "\n",
    "        h=str(coord_h[0])+','+str(coord_h[1]) \n",
    "        tail_visits.append(t)\n",
    "        head_visits.append(h)\n",
    "        \n",
    "        \n",
    "        distance-=1\n",
    "\n",
    "res=len(visited)\n",
    "print(res)\n",
    "print('v',visited)\n",
    "print(len(head_visits))\n",
    "print(tail_visits)\n",
    "print(len(head_visits))\n",
    "print(head_visits)\n"
   ]
  },
  {
   "cell_type": "code",
   "execution_count": 160,
   "id": "6314bae8",
   "metadata": {
    "scrolled": false
   },
   "outputs": [
    {
     "name": "stdout",
     "output_type": "stream",
     "text": [
      "0 0 ['*', '*', '5', '*', '*', '*', '*', '*', '*', '*']\n",
      "2 0 ['*', '*', '5', '*', '*', '*', '*', '*', '*', '*']\n",
      "4 0 ['*', '*', '5', '*', '*', '*', '*', '*', '*', '*']\n",
      "4 2 ['*', '*', '5', '*', '*', '*', '*', '*', '*', '*']\n",
      "4 4 ['*', '*', '5', '*', '*', '*', '*', '*', '*', '*']\n",
      "2 4 ['*', '*', '5', '*', '*', '*', '*', '*', '*', '*']\n",
      "4 3 ['*', '*', '5', '*', '*', '*', '*', '*', '*', '*']\n",
      "2 2 ['*', '*', '5', '*', '*', '*', '*', '*', '*', '*']\n",
      "0 2 ['*', '*', '5', '*', '*', '*', '*', '*', '*', '*']\n",
      "['5', '*', '5', '*', '5', '*', '*', '*', '*', '*']\n",
      "['5', '*', '5', '*', '5', '*', '*', '*', '*', '*']\n",
      "['5', '*', '5', '*', '5', '*', '*', '*', '*', '*']\n",
      "['5', '*', '5', '*', '5', '*', '*', '*', '*', '*']\n",
      "['5', '*', '5', '*', '5', '*', '*', '*', '*', '*']\n",
      "['5', '*', '5', '*', '5', '*', '*', '*', '*', '*']\n",
      "['5', '*', '5', '*', '5', '*', '*', '*', '*', '*']\n",
      "['5', '*', '5', '*', '5', '*', '*', '*', '*', '*']\n",
      "['5', '*', '5', '*', '5', '*', '*', '*', '*', '*']\n",
      "['5', '*', '5', '*', '5', '*', '*', '*', '*', '*']\n",
      "['5', '*', '5', '*', '5', '*', '*', '*', '*', '*']\n"
     ]
    }
   ],
   "source": [
    "grid2 =[]\n",
    "gg=[]\n",
    "xgrid='**********'\n",
    "xlist=[x for x in xgrid]\n",
    "for i in range(11):\n",
    "    grid2.append(xlist)\n",
    "#for g in grid2:\n",
    "  #  print(g)\n",
    "for p in visited:\n",
    "    pp=p.split(',')\n",
    "    x=int(pp[0])\n",
    "    y=int(pp[1])\n",
    "\n",
    "    #grid2[y][x]='#'\n",
    "    grid2[y][x]='5'\n",
    "    gg.append(yy)\n",
    "    print(x,y,yy)\n",
    "for gt in grid2:\n",
    "    print(gt)\n",
    "    \n",
    "#print(grid2)"
   ]
  },
  {
   "cell_type": "code",
   "execution_count": null,
   "id": "b32a0433",
   "metadata": {},
   "outputs": [],
   "source": []
  },
  {
   "cell_type": "code",
   "execution_count": null,
   "id": "94a9eb24",
   "metadata": {},
   "outputs": [],
   "source": []
  }
 ],
 "metadata": {
  "kernelspec": {
   "display_name": "Python 3 (ipykernel)",
   "language": "python",
   "name": "python3"
  },
  "language_info": {
   "codemirror_mode": {
    "name": "ipython",
    "version": 3
   },
   "file_extension": ".py",
   "mimetype": "text/x-python",
   "name": "python",
   "nbconvert_exporter": "python",
   "pygments_lexer": "ipython3",
   "version": "3.9.10+"
  }
 },
 "nbformat": 4,
 "nbformat_minor": 5
}
