{
 "cells": [
  {
   "cell_type": "code",
   "execution_count": 147,
   "id": "afd144e7",
   "metadata": {},
   "outputs": [
    {
     "name": "stdout",
     "output_type": "stream",
     "text": [
      "A: f rtblnzhwqmsg v 12 11\n",
      "1531 2518 4095\n"
     ]
    }
   ],
   "source": [
    "T=0\n",
    "T2=0\n",
    "with open('Data/D06D.txt') as file:\n",
    "    a=file.read()\n",
    "    lena=len(a)\n",
    "\n",
    "T= m(a,lena)\n",
    "T2=m2(a,lena)\n",
    "print(T,T2,lena)"
   ]
  },
  {
   "cell_type": "code",
   "execution_count": null,
   "id": "da14a673",
   "metadata": {},
   "outputs": [],
   "source": []
  }
 ],
 "metadata": {
  "kernelspec": {
   "display_name": "Python 3 (ipykernel)",
   "language": "python",
   "name": "python3"
  },
  "language_info": {
   "codemirror_mode": {
    "name": "ipython",
    "version": 3
   },
   "file_extension": ".py",
   "mimetype": "text/x-python",
   "name": "python",
   "nbconvert_exporter": "python",
   "pygments_lexer": "ipython3",
   "version": "3.9.10+"
  }
 },
 "nbformat": 4,
 "nbformat_minor": 5
}
