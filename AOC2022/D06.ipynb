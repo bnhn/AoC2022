{
 "cells": [
  {
   "cell_type": "code",
   "execution_count": 150,
   "id": "624c00ff",
   "metadata": {},
   "outputs": [],
   "source": [
    "def m(a,lena):\n",
    "    t=0\n",
    "    for i in range(lena):\n",
    "        right=a[i+1:i+4]\n",
    "        p=a[i]\n",
    "        \n",
    "        if i >= lena-3:\n",
    "            print('No marker found or signal too short')\n",
    "            break\n",
    "\n",
    "        if p in right:\n",
    "            continue\n",
    "        elif right[0] in right[1:] or right[2] in right[:2]:\n",
    "            continue\n",
    "        else:\n",
    "            t=i+4\n",
    "            b=i\n",
    "            break\n",
    "    return t\n",
    "    \n",
    "\n",
    "def m2(a,lena):\n",
    "    t=0\n",
    "    if lena<14:\n",
    "        return 'no message found'\n",
    "    for i in range(lena):\n",
    "        if t == 14:\n",
    "            print('a',t)\n",
    "        if i+14 > lena:\n",
    "            return 'no message found'\n",
    "        \n",
    "            \n",
    "        right=a[i+1:i+4]\n",
    "        b=a[i+1:i+13]\n",
    "        c=a[i+13]\n",
    "        p=a[i]\n",
    "        #print(len(b))\n",
    "        if len(b)<12:\n",
    "            break\n",
    "        if p in b or c in b:\n",
    "            continue\n",
    "        for j in range(len(b)):\n",
    "            #print(i+1,i+t+2,t,b[j],p,b,c,b[j+1:])\n",
    "            #print(b[j+1:])\n",
    "            if b[j] in b[j+1:]:\n",
    "                t=0\n",
    "                break\n",
    "            else:\n",
    "                t+=1\n",
    "        if t == 12:\n",
    "            print('A:',p,b,c,t,j)\n",
    "            return t+i+2\n",
    "                \n",
    "    return 'no message found'"
   ]
  },
  {
   "cell_type": "code",
   "execution_count": 151,
   "id": "8f078fb6",
   "metadata": {},
   "outputs": [
    {
     "name": "stdout",
     "output_type": "stream",
     "text": [
      "A: f rtblnzhwqmsg v 12 11\n",
      "1531 2518 4095\n"
     ]
    }
   ],
   "source": [
    "T=0\n",
    "T2=0\n",
    "with open('Data/D06D.txt') as file:\n",
    "    a=file.read()\n",
    "    lena=len(a)\n",
    "\n",
    "T= m(a,lena)\n",
    "T2=m2(a,lena)\n",
    "print(T,T2,lena)"
   ]
  }
 ],
 "metadata": {
  "kernelspec": {
   "display_name": "Python 3 (ipykernel)",
   "language": "python",
   "name": "python3"
  },
  "language_info": {
   "codemirror_mode": {
    "name": "ipython",
    "version": 3
   },
   "file_extension": ".py",
   "mimetype": "text/x-python",
   "name": "python",
   "nbconvert_exporter": "python",
   "pygments_lexer": "ipython3",
   "version": "3.9.10+"
  }
 },
 "nbformat": 4,
 "nbformat_minor": 5
}
