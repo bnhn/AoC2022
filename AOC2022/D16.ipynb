{
 "cells": [
  {
   "cell_type": "code",
   "execution_count": 3,
   "id": "25def03b",
   "metadata": {
    "scrolled": true
   },
   "outputs": [
    {
     "data": {
      "text/plain": [
       "{'EV': {'rate': 0, 'lead_to': ['WG', 'IB']},\n",
       " 'IB': {'rate': 0, 'lead_to': ['EW', 'EV']},\n",
       " 'KL': {'rate': 0, 'lead_to': ['JH', 'OY']},\n",
       " 'QJ': {'rate': 0, 'lead_to': ['TX', 'JH']},\n",
       " 'OA': {'rate': 12, 'lead_to': ['SB', 'GI', 'ED']},\n",
       " 'BQ': {'rate': 0, 'lead_to': ['NK', 'JJ']},\n",
       " 'PZ': {'rate': 0, 'lead_to': ['JH', 'VA']},\n",
       " 'QO': {'rate': 8, 'lead_to': ['LN', 'LU', 'CU', 'SQ', 'YZ']},\n",
       " 'MP': {'rate': 0, 'lead_to': ['LN', 'GO']},\n",
       " 'YZ': {'rate': 0, 'lead_to': ['AA', 'QO']},\n",
       " 'CU': {'rate': 0, 'lead_to': ['RY', 'QO']},\n",
       " 'UE': {'rate': 16, 'lead_to': ['VP']},\n",
       " 'HT': {'rate': 0, 'lead_to': ['AA', 'JE']},\n",
       " 'EF': {'rate': 0, 'lead_to': ['ES', 'JE']},\n",
       " 'JJ': {'rate': 15, 'lead_to': ['BQ']},\n",
       " 'JX': {'rate': 0, 'lead_to': ['AA', 'GO']},\n",
       " 'AA': {'rate': 0, 'lead_to': ['JX', 'TX', 'HT', 'YZ']},\n",
       " 'MI': {'rate': 21, 'lead_to': ['PQ', 'QT']},\n",
       " 'ES': {'rate': 0, 'lead_to': ['EF', 'NK']},\n",
       " 'VC': {'rate': 0, 'lead_to': ['MC', 'IW']},\n",
       " 'LN': {'rate': 0, 'lead_to': ['MP', 'QO']},\n",
       " 'ED': {'rate': 0, 'lead_to': ['OA', 'RY']},\n",
       " 'WG': {'rate': 20, 'lead_to': ['EV', 'OY', 'KF']},\n",
       " 'GI': {'rate': 0, 'lead_to': ['WE', 'OA']},\n",
       " 'UK': {'rate': 0, 'lead_to': ['TO', 'JE']},\n",
       " 'GY': {'rate': 23, 'lead_to': ['EO', 'QT']},\n",
       " 'TX': {'rate': 0, 'lead_to': ['AA', 'QJ']},\n",
       " 'OE': {'rate': 0, 'lead_to': ['GO', 'NK']},\n",
       " 'OQ': {'rate': 9, 'lead_to': ['VP', 'SB']},\n",
       " 'NK': {'rate': 25, 'lead_to': ['OE', 'ES', 'BQ']},\n",
       " 'LU': {'rate': 0, 'lead_to': ['JH', 'QO']},\n",
       " 'RY': {'rate': 18, 'lead_to': ['ED', 'IW', 'CU']},\n",
       " 'KF': {'rate': 0, 'lead_to': ['JE', 'WG']},\n",
       " 'IW': {'rate': 0, 'lead_to': ['VC', 'RY']},\n",
       " 'SQ': {'rate': 0, 'lead_to': ['MC', 'QO']},\n",
       " 'PQ': {'rate': 0, 'lead_to': ['MC', 'MI']},\n",
       " 'TO': {'rate': 0, 'lead_to': ['UK', 'JH']},\n",
       " 'OY': {'rate': 0, 'lead_to': ['KL', 'WG']},\n",
       " 'JE': {'rate': 10, 'lead_to': ['EF', 'ND', 'HT', 'KF', 'UK']},\n",
       " 'JH': {'rate': 3, 'lead_to': ['QJ', 'KL', 'PZ', 'TO', 'LU']},\n",
       " 'VP': {'rate': 0, 'lead_to': ['OQ', 'UE']},\n",
       " 'EW': {'rate': 22, 'lead_to': ['IB']},\n",
       " 'ND': {'rate': 0, 'lead_to': ['JE', 'GO']},\n",
       " 'VA': {'rate': 0, 'lead_to': ['GO', 'PZ']},\n",
       " 'QT': {'rate': 0, 'lead_to': ['MI', 'GY']},\n",
       " 'EO': {'rate': 0, 'lead_to': ['GY', 'MC']},\n",
       " 'MC': {'rate': 11, 'lead_to': ['PQ', 'SQ', 'WE', 'EO', 'VC']},\n",
       " 'GO': {'rate': 4, 'lead_to': ['JX', 'VA', 'OE', 'MP', 'ND']},\n",
       " 'SB': {'rate': 0, 'lead_to': ['OQ', 'OA']},\n",
       " 'WE': {'rate': 0, 'lead_to': ['MC', 'GI']}}"
      ]
     },
     "execution_count": 3,
     "metadata": {},
     "output_type": "execute_result"
    }
   ],
   "source": [
    "valves={}\n",
    "with open('Data/D16D.txt') as file:\n",
    "    for line in file:\n",
    "        l=line.strip().split(';')\n",
    "        lead_to=list(map(lambda str: str.strip(','),l[1].split()[4:]))\n",
    "        v=l[0].split()\n",
    "        rate=v[-1].split('=')\n",
    "        valves[v[1]]={'rate':int(rate[1]), 'lead_to':lead_to}\n",
    "valves"
   ]
  },
  {
   "cell_type": "code",
   "execution_count": null,
   "id": "7858a40d",
   "metadata": {},
   "outputs": [],
   "source": []
  },
  {
   "cell_type": "code",
   "execution_count": null,
   "id": "cf7fed6b",
   "metadata": {},
   "outputs": [],
   "source": []
  }
 ],
 "metadata": {
  "kernelspec": {
   "display_name": "Python 3 (ipykernel)",
   "language": "python",
   "name": "python3"
  },
  "language_info": {
   "codemirror_mode": {
    "name": "ipython",
    "version": 3
   },
   "file_extension": ".py",
   "mimetype": "text/x-python",
   "name": "python",
   "nbconvert_exporter": "python",
   "pygments_lexer": "ipython3",
   "version": "3.11.0"
  }
 },
 "nbformat": 4,
 "nbformat_minor": 5
}
