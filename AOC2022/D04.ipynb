{
 "cells": [
  {
   "cell_type": "code",
   "execution_count": 13,
   "id": "7b4361af",
   "metadata": {},
   "outputs": [
    {
     "name": "stdout",
     "output_type": "stream",
     "text": [
      "569\n",
      "936\n"
     ]
    }
   ],
   "source": [
    "a1=[]\n",
    "a2=[]\n",
    "b1=[]\n",
    "b2=[]\n",
    "t=0\n",
    "t2=0\n",
    "\n",
    "with open('Data/D04D.txt') as file:\n",
    "    for l in file:\n",
    "        c1= l.strip().split(',')\n",
    "        a1.append(int(c1[0].split('-')[0]))\n",
    "        a2.append(int(c1[0].split('-')[1])) \n",
    "        b1.append(int(c1[1].split('-')[0]))\n",
    "        b2.append(int(c1[1].split('-')[1]))\n",
    "        \n",
    "        \n",
    "for i in range(len(a1)):\n",
    "    #part one\n",
    "    if a1[i]>=b1[i] and a2[i]<=b2[i]:\n",
    "        t+=1\n",
    "    elif b1[i]>=a1[i] and b2[i]<=a2[i]:\n",
    "        t+=1\n",
    "        \n",
    "    \n",
    "    #part two\n",
    "    if not b1[i]>a2[i] and b2[i]>=a1[i]:\n",
    "        t2+=1\n",
    "\n",
    "print(t)\n",
    "print(t2)\n"
   ]
  },
  {
   "cell_type": "code",
   "execution_count": null,
   "id": "69f5eb8b",
   "metadata": {},
   "outputs": [],
   "source": []
  }
 ],
 "metadata": {
  "kernelspec": {
   "display_name": "Python 3 (ipykernel)",
   "language": "python",
   "name": "python3"
  },
  "language_info": {
   "codemirror_mode": {
    "name": "ipython",
    "version": 3
   },
   "file_extension": ".py",
   "mimetype": "text/x-python",
   "name": "python",
   "nbconvert_exporter": "python",
   "pygments_lexer": "ipython3",
   "version": "3.9.10+"
  }
 },
 "nbformat": 4,
 "nbformat_minor": 5
}
