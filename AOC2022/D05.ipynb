{
 "cells": [
  {
   "cell_type": "code",
   "execution_count": 26,
   "id": "96ce0d2d",
   "metadata": {
    "scrolled": true
   },
   "outputs": [
    {
     "name": "stdout",
     "output_type": "stream",
     "text": [
      "@@@[V]     [B]                     [F]\n",
      "@@@[N] [Q] [W]                 [R] [B]\n",
      "@@@[F] [D] [S]     [B]         [L] [P]\n",
      "@@@[S] [J] [C]     [F] [C]     [D] [G]\n",
      "@@@[M] [M] [H] [L] [P] [N]     [P] [V]\n",
      "@@@[P] [L] [D] [C] [T] [Q] [R] [S] [J]\n",
      "@@@[H] [R] [Q] [S] [V] [R] [V] [Z] [S]\n",
      "@@@[J] [S] [N] [R] [M] [T] [G] [C] [D]\n",
      "@@@ 1   2   3   4   5   6   7   8   9\n"
     ]
    }
   ],
   "source": [
    "crates= {}\n",
    "with open('Data/D5crates.txt') as file:\n",
    "    key=0\n",
    "    for line in file:\n",
    "        l='@@@'+line\n",
    "        l=l.strip()\n",
    "        print(l)\n",
    "        \n",
    "        for i in range(1,len(l)):\n",
    "            curKeyID=i\n",
    "            if i % 4 == 0 and i >=4:\n",
    "                key= int(i/4)\n",
    "            if key not in crates and key>0:\n",
    "                crates[key]=[]\n",
    "            \n",
    "            \n",
    "            if l[i] == ' ' or l[i] == '[' or l[i]=='@':\n",
    "                continue\n",
    "            elif l[i] != ']':\n",
    "                if key in crates:\n",
    "                    crates[key].append(l[i])\n",
    "                continue\n",
    "                \n",
    "#del last line               \n",
    "if crates:\n",
    "    for crate in crates:\n",
    "        crates[crate].pop()\n"
   ]
  },
  {
   "cell_type": "code",
   "execution_count": 27,
   "id": "0e6fe807",
   "metadata": {},
   "outputs": [],
   "source": [
    "moves,source,target=[],[],[]\n",
    "with open('Data/D5moves.txt') as file:\n",
    "    for line in file:\n",
    "        l=line.strip().split(' ')\n",
    "        moves.append(int(l[1]))\n",
    "        source.append(int(l[3]))\n",
    "        target.append(int(l[5]))\n"
   ]
  },
  {
   "cell_type": "code",
   "execution_count": 28,
   "id": "fc5364a8",
   "metadata": {},
   "outputs": [
    {
     "name": "stdout",
     "output_type": "stream",
     "text": [
      "SBPQRSCDF\n",
      "RGLVRCQSB\n"
     ]
    }
   ],
   "source": [
    "from copy import deepcopy\n",
    "res=''\n",
    "res2=''\n",
    "def sort_dict(dic):\n",
    "    sortedDict={}\n",
    "    if type(dic) != type(sortedDict):\n",
    "        return ' TypeError Not a dict'\n",
    "    keys =sorted(list(dic.keys()))\n",
    "    for key in keys:\n",
    "        sortedDict[key] = dic[key]\n",
    "    return deepcopy(sortedDict)\n",
    "\n",
    "c= sort_dict(crates)\n",
    "d= sort_dict(crates)\n",
    "\n",
    "for i in range(len(moves)):\n",
    "    m,s,t= moves[i],source[i],target[i]\n",
    "    \n",
    "    #part one\n",
    "    ii=m\n",
    "    while ii != 0:\n",
    "        if c[s]:\n",
    "            e=c[s].pop(0)\n",
    "            c[t].insert(0,e)\n",
    "        ii-=1\n",
    "    \n",
    "    #part two\n",
    "    if d[s]:\n",
    "        ee=d[s][:m]\n",
    "        d[t]=ee+d[t]\n",
    "        del d[s][:m]\n",
    "\n",
    "\n",
    "for crate in c:\n",
    "    ff=c[crate][0]\n",
    "    res=res+ff\n",
    "    \n",
    "    ll= d[crate][0]\n",
    "    res2=res2+ll\n",
    "    \n",
    "print(res)\n",
    "print(res2)"
   ]
  },
  {
   "cell_type": "code",
   "execution_count": null,
   "id": "9430acde",
   "metadata": {},
   "outputs": [],
   "source": []
  }
 ],
 "metadata": {
  "kernelspec": {
   "display_name": "Python 3 (ipykernel)",
   "language": "python",
   "name": "python3"
  },
  "language_info": {
   "codemirror_mode": {
    "name": "ipython",
    "version": 3
   },
   "file_extension": ".py",
   "mimetype": "text/x-python",
   "name": "python",
   "nbconvert_exporter": "python",
   "pygments_lexer": "ipython3",
   "version": "3.9.10+"
  }
 },
 "nbformat": 4,
 "nbformat_minor": 5
}
