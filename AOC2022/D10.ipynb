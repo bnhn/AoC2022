{
 "cells": [
  {
   "cell_type": "code",
   "execution_count": 87,
   "id": "539bc107",
   "metadata": {
    "scrolled": false
   },
   "outputs": [
    {
     "name": "stdout",
     "output_type": "stream",
     "text": [
      "27 240 13920\n",
      "[340, 1260, 1700, 2940, 3060, 4620]\n",
      "####..##..#....#..#.###..#....####...##.\n",
      "#....#..#.#....#..#.#..#.#....#.......#.\n",
      "###..#....#....####.###..#....###.....#.\n",
      "#....#.##.#....#..#.#..#.#....#.......#.\n",
      "#....#..#.#....#..#.#..#.#....#....#..#.\n",
      "####..###.####.#..#.###..####.#.....##..\n",
      "\n"
     ]
    }
   ],
   "source": [
    "cycle=[]\n",
    "X,cycle_count=1,0\n",
    "ss=0\n",
    "signals=[]\n",
    "crt=[]\n",
    "rtb=[]\n",
    "\n",
    "with open('Data/D10D.txt') as file:\n",
    "    for line in file:\n",
    "        line=line.strip().split()\n",
    "        if line[0]=='noop':\n",
    "            line.append(0)\n",
    "            line.append(1)\n",
    "        else:\n",
    "            line.append(2)\n",
    "        cycle.append(line)\n",
    "\n",
    "for i in range(len(cycle)):\n",
    "    for j in range(cycle[i][2]):\n",
    "        cycle_count+=1\n",
    "        \n",
    "        #part two\n",
    "        lenr=len(rtb)\n",
    "        if X-1==lenr or X==lenr or X+1==lenr:\n",
    "            rtb.append('#')\n",
    "        else:\n",
    "            rtb.append('.')\n",
    "        \n",
    "        if cycle_count%40==0 and cycle_count!=0:\n",
    "            crt.append(''.join(rtb))\n",
    "            crt.append('\\n')\n",
    "            rtb=[]\n",
    "        #part two#\n",
    "\n",
    "        #part one\n",
    "        if cycle_count==20:\n",
    "            s=cycle_count*X\n",
    "            ss+=s\n",
    "            signals.append(cycle_count*X)\n",
    "        elif ((cycle_count-20)%40)==0:\n",
    "            s=cycle_count*X\n",
    "            ss+=s\n",
    "            signals.append(s)\n",
    "        #part one\n",
    "\n",
    "    \n",
    "    X+=int(cycle[i][1])\n",
    "    \n",
    "crtf=''.join(crt)\n",
    "\n",
    "print(X,cycle_count,ss)\n",
    "print(signals)\n",
    "print(crtf)\n"
   ]
  },
  {
   "cell_type": "code",
   "execution_count": null,
   "id": "e9811eb0",
   "metadata": {},
   "outputs": [],
   "source": []
  }
 ],
 "metadata": {
  "kernelspec": {
   "display_name": "Python 3 (ipykernel)",
   "language": "python",
   "name": "python3"
  },
  "language_info": {
   "codemirror_mode": {
    "name": "ipython",
    "version": 3
   },
   "file_extension": ".py",
   "mimetype": "text/x-python",
   "name": "python",
   "nbconvert_exporter": "python",
   "pygments_lexer": "ipython3",
   "version": "3.9.10+"
  }
 },
 "nbformat": 4,
 "nbformat_minor": 5
}
