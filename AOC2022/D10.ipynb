{
 "cells": [
  {
   "cell_type": "code",
   "execution_count": 25,
   "id": "c786eb71",
   "metadata": {
    "scrolled": false
   },
   "outputs": [
    {
     "name": "stdout",
     "output_type": "stream",
     "text": [
      "27 241 13920\n",
      "[340, 1260, 1700, 2940, 3060, 4620]\n"
     ]
    }
   ],
   "source": [
    "cycle=[]\n",
    "X,cycle_count=1,1\n",
    "ss=0\n",
    "signals=[]\n",
    "with open('Data/D10D.txt') as file:\n",
    "    for line in file:\n",
    "        line=line.strip().split()\n",
    "        if line[0]=='noop':\n",
    "            line.append(0)\n",
    "            line.append(1)\n",
    "        else:\n",
    "            line.append(2)\n",
    "        cycle.append(line)\n",
    "\n",
    "for i in range(len(cycle)):\n",
    "    for j in range(cycle[i][2]):\n",
    "        #print(cycle_count,X,cycle[i][0],cycle[i][1])\n",
    "        if cycle_count==20:\n",
    "            s=cycle_count*X\n",
    "            ss+=s\n",
    "           # print(X,ss)\n",
    "            signals.append(cycle_count*X)\n",
    "        elif ((cycle_count-20)%40)==0:\n",
    "            s=cycle_count*X\n",
    "            ss+=s\n",
    "            signals.append(s)\n",
    "           # print(cycle_count,X)\n",
    "        cycle_count+=1\n",
    "    \n",
    "    X+=int(cycle[i][1])\n",
    "print(X,cycle_count,ss)\n",
    "print(signals)"
   ]
  },
  {
   "cell_type": "code",
   "execution_count": null,
   "id": "e5ef0247",
   "metadata": {},
   "outputs": [],
   "source": []
  }
 ],
 "metadata": {
  "kernelspec": {
   "display_name": "Python 3 (ipykernel)",
   "language": "python",
   "name": "python3"
  },
  "language_info": {
   "codemirror_mode": {
    "name": "ipython",
    "version": 3
   },
   "file_extension": ".py",
   "mimetype": "text/x-python",
   "name": "python",
   "nbconvert_exporter": "python",
   "pygments_lexer": "ipython3",
   "version": "3.9.10+"
  }
 },
 "nbformat": 4,
 "nbformat_minor": 5
}
